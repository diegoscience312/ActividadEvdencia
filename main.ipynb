{
 "cells": [
  {
   "cell_type": "code",
   "execution_count": 1,
   "id": "b1c1437f",
   "metadata": {},
   "outputs": [],
   "source": [
    "import pyodbc\n",
    "import pandas as pd\n",
    "import json"
   ]
  },
  {
   "cell_type": "code",
   "execution_count": 2,
   "id": "12775523",
   "metadata": {},
   "outputs": [],
   "source": [
    "contraseña = open(\"password.json\", \"r\")\n",
    "YOUR_PASSWORD = json.load(contraseña) #json es sólo el string de su contraseña.\n",
    "contraseña.close()"
   ]
  },
  {
   "cell_type": "code",
   "execution_count": 5,
   "id": "b4bd4abe",
   "metadata": {},
   "outputs": [
    {
     "name": "stdout",
     "output_type": "stream",
     "text": [
      "Connected to the Azure SQL Database successfully!\n"
     ]
    }
   ],
   "source": [
    "# Set up your connection string\n",
    "server = 'act-evaluacion-server.database.windows.net'\n",
    "database = 'act-evaluacion-db'\n",
    "username = 'Alejandro'\n",
    "password = YOUR_PASSWORD\n",
    "\n",
    "# Define the connection string for SQL Server (Azure)\n",
    "conn_str = (\n",
    "    f'DRIVER={{ODBC Driver 17 for SQL Server}};'\n",
    "    f'SERVER={server};'\n",
    "    f'DATABASE={database};'\n",
    "    f'UID={username};'\n",
    "    f'PWD={password}'\n",
    ")\n",
    "\n",
    "# Establish the connection\n",
    "try:\n",
    "    conn = pyodbc.connect(conn_str)\n",
    "    print(\"Connected to the Azure SQL Database successfully!\")\n",
    "\n",
    "except pyodbc.Error as e:\n",
    "    print(f\"Error connecting to the database: {e}\")"
   ]
  },
  {
   "cell_type": "code",
   "execution_count": 6,
   "id": "74ce25a7",
   "metadata": {},
   "outputs": [
    {
     "name": "stdout",
     "output_type": "stream",
     "text": [
      "[('Customer',), ('ProductModel',), ('ProductDescription',), ('Product',), ('ProductModelProductDescription',), ('ProductCategory',), ('BuildVersion',), ('ErrorLog',), ('Address',), ('CustomerAddress',), ('SalesOrderDetail',), ('SalesOrderHeader',)]\n"
     ]
    }
   ],
   "source": [
    "query_1 = \"SELECT name FROM sys.tables\"\n",
    "\n",
    "cursor = conn.cursor()\n",
    "cursor.execute(query_1)\n",
    "\n",
    "tables = list(cursor.fetchall())\n",
    "print(tables)"
   ]
  },
  {
   "cell_type": "code",
   "execution_count": 7,
   "id": "4fce12a2",
   "metadata": {},
   "outputs": [
    {
     "name": "stderr",
     "output_type": "stream",
     "text": [
      "/var/folders/rb/fqqlv8sj6g176x662s9tq20w0000gn/T/ipykernel_44752/129695103.py:2: UserWarning: pandas only supports SQLAlchemy connectable (engine/connection) or database string URI or sqlite3 DBAPI2 connection. Other DBAPI2 objects are not tested. Please consider using SQLAlchemy.\n",
      "  datos = pd.read_sql(query_2, conn)\n"
     ]
    },
    {
     "data": {
      "text/html": [
       "<div>\n",
       "<style scoped>\n",
       "    .dataframe tbody tr th:only-of-type {\n",
       "        vertical-align: middle;\n",
       "    }\n",
       "\n",
       "    .dataframe tbody tr th {\n",
       "        vertical-align: top;\n",
       "    }\n",
       "\n",
       "    .dataframe thead th {\n",
       "        text-align: right;\n",
       "    }\n",
       "</style>\n",
       "<table border=\"1\" class=\"dataframe\">\n",
       "  <thead>\n",
       "    <tr style=\"text-align: right;\">\n",
       "      <th></th>\n",
       "      <th>CustomerID</th>\n",
       "      <th>NameStyle</th>\n",
       "      <th>Title</th>\n",
       "      <th>FirstName</th>\n",
       "      <th>MiddleName</th>\n",
       "      <th>LastName</th>\n",
       "      <th>Suffix</th>\n",
       "      <th>CompanyName</th>\n",
       "      <th>SalesPerson</th>\n",
       "      <th>EmailAddress</th>\n",
       "      <th>Phone</th>\n",
       "      <th>PasswordHash</th>\n",
       "      <th>PasswordSalt</th>\n",
       "      <th>rowguid</th>\n",
       "      <th>ModifiedDate</th>\n",
       "    </tr>\n",
       "  </thead>\n",
       "  <tbody>\n",
       "    <tr>\n",
       "      <th>0</th>\n",
       "      <td>1</td>\n",
       "      <td>False</td>\n",
       "      <td>Mr.</td>\n",
       "      <td>Orlando</td>\n",
       "      <td>N.</td>\n",
       "      <td>Gee</td>\n",
       "      <td>None</td>\n",
       "      <td>A Bike Store</td>\n",
       "      <td>adventure-works\\pamela0</td>\n",
       "      <td>orlando0@adventure-works.com</td>\n",
       "      <td>245-555-0173</td>\n",
       "      <td>L/Rlwxzp4w7RWmEgXX+/A7cXaePEPcp+KwQhl2fJL7w=</td>\n",
       "      <td>1KjXYs4=</td>\n",
       "      <td>3F5AE95E-B87D-4AED-95B4-C3797AFCB74F</td>\n",
       "      <td>2005-08-01</td>\n",
       "    </tr>\n",
       "    <tr>\n",
       "      <th>1</th>\n",
       "      <td>2</td>\n",
       "      <td>False</td>\n",
       "      <td>Mr.</td>\n",
       "      <td>Keith</td>\n",
       "      <td>None</td>\n",
       "      <td>Harris</td>\n",
       "      <td>None</td>\n",
       "      <td>Progressive Sports</td>\n",
       "      <td>adventure-works\\david8</td>\n",
       "      <td>keith0@adventure-works.com</td>\n",
       "      <td>170-555-0127</td>\n",
       "      <td>YPdtRdvqeAhj6wyxEsFdshBDNXxkCXn+CRgbvJItknw=</td>\n",
       "      <td>fs1ZGhY=</td>\n",
       "      <td>E552F657-A9AF-4A7D-A645-C429D6E02491</td>\n",
       "      <td>2006-08-01</td>\n",
       "    </tr>\n",
       "    <tr>\n",
       "      <th>2</th>\n",
       "      <td>3</td>\n",
       "      <td>False</td>\n",
       "      <td>Ms.</td>\n",
       "      <td>Donna</td>\n",
       "      <td>F.</td>\n",
       "      <td>Carreras</td>\n",
       "      <td>None</td>\n",
       "      <td>Advanced Bike Components</td>\n",
       "      <td>adventure-works\\jillian0</td>\n",
       "      <td>donna0@adventure-works.com</td>\n",
       "      <td>279-555-0130</td>\n",
       "      <td>LNoK27abGQo48gGue3EBV/UrlYSToV0/s87dCRV7uJk=</td>\n",
       "      <td>YTNH5Rw=</td>\n",
       "      <td>130774B1-DB21-4EF3-98C8-C104BCD6ED6D</td>\n",
       "      <td>2005-09-01</td>\n",
       "    </tr>\n",
       "    <tr>\n",
       "      <th>3</th>\n",
       "      <td>4</td>\n",
       "      <td>False</td>\n",
       "      <td>Ms.</td>\n",
       "      <td>Janet</td>\n",
       "      <td>M.</td>\n",
       "      <td>Gates</td>\n",
       "      <td>None</td>\n",
       "      <td>Modular Cycle Systems</td>\n",
       "      <td>adventure-works\\jillian0</td>\n",
       "      <td>janet1@adventure-works.com</td>\n",
       "      <td>710-555-0173</td>\n",
       "      <td>ElzTpSNbUW1Ut+L5cWlfR7MF6nBZia8WpmGaQPjLOJA=</td>\n",
       "      <td>nm7D5e4=</td>\n",
       "      <td>FF862851-1DAA-4044-BE7C-3E85583C054D</td>\n",
       "      <td>2006-07-01</td>\n",
       "    </tr>\n",
       "    <tr>\n",
       "      <th>4</th>\n",
       "      <td>5</td>\n",
       "      <td>False</td>\n",
       "      <td>Mr.</td>\n",
       "      <td>Lucy</td>\n",
       "      <td>None</td>\n",
       "      <td>Harrington</td>\n",
       "      <td>None</td>\n",
       "      <td>Metropolitan Sports Supply</td>\n",
       "      <td>adventure-works\\shu0</td>\n",
       "      <td>lucy0@adventure-works.com</td>\n",
       "      <td>828-555-0186</td>\n",
       "      <td>KJqV15wsX3PG8TS5GSddp6LFFVdd3CoRftZM/tP0+R4=</td>\n",
       "      <td>cNFKU4w=</td>\n",
       "      <td>83905BDC-6F5E-4F71-B162-C98DA069F38A</td>\n",
       "      <td>2006-09-01</td>\n",
       "    </tr>\n",
       "  </tbody>\n",
       "</table>\n",
       "</div>"
      ],
      "text/plain": [
       "   CustomerID  NameStyle Title FirstName MiddleName    LastName Suffix  \\\n",
       "0           1      False   Mr.   Orlando         N.         Gee   None   \n",
       "1           2      False   Mr.     Keith       None      Harris   None   \n",
       "2           3      False   Ms.     Donna         F.    Carreras   None   \n",
       "3           4      False   Ms.     Janet         M.       Gates   None   \n",
       "4           5      False   Mr.      Lucy       None  Harrington   None   \n",
       "\n",
       "                  CompanyName               SalesPerson  \\\n",
       "0                A Bike Store   adventure-works\\pamela0   \n",
       "1          Progressive Sports    adventure-works\\david8   \n",
       "2    Advanced Bike Components  adventure-works\\jillian0   \n",
       "3       Modular Cycle Systems  adventure-works\\jillian0   \n",
       "4  Metropolitan Sports Supply      adventure-works\\shu0   \n",
       "\n",
       "                   EmailAddress         Phone  \\\n",
       "0  orlando0@adventure-works.com  245-555-0173   \n",
       "1    keith0@adventure-works.com  170-555-0127   \n",
       "2    donna0@adventure-works.com  279-555-0130   \n",
       "3    janet1@adventure-works.com  710-555-0173   \n",
       "4     lucy0@adventure-works.com  828-555-0186   \n",
       "\n",
       "                                   PasswordHash PasswordSalt  \\\n",
       "0  L/Rlwxzp4w7RWmEgXX+/A7cXaePEPcp+KwQhl2fJL7w=     1KjXYs4=   \n",
       "1  YPdtRdvqeAhj6wyxEsFdshBDNXxkCXn+CRgbvJItknw=     fs1ZGhY=   \n",
       "2  LNoK27abGQo48gGue3EBV/UrlYSToV0/s87dCRV7uJk=     YTNH5Rw=   \n",
       "3  ElzTpSNbUW1Ut+L5cWlfR7MF6nBZia8WpmGaQPjLOJA=     nm7D5e4=   \n",
       "4  KJqV15wsX3PG8TS5GSddp6LFFVdd3CoRftZM/tP0+R4=     cNFKU4w=   \n",
       "\n",
       "                                rowguid ModifiedDate  \n",
       "0  3F5AE95E-B87D-4AED-95B4-C3797AFCB74F   2005-08-01  \n",
       "1  E552F657-A9AF-4A7D-A645-C429D6E02491   2006-08-01  \n",
       "2  130774B1-DB21-4EF3-98C8-C104BCD6ED6D   2005-09-01  \n",
       "3  FF862851-1DAA-4044-BE7C-3E85583C054D   2006-07-01  \n",
       "4  83905BDC-6F5E-4F71-B162-C98DA069F38A   2006-09-01  "
      ]
     },
     "execution_count": 7,
     "metadata": {},
     "output_type": "execute_result"
    }
   ],
   "source": [
    "query_2 = \"SELECT * FROM SalesLT.customer\"\n",
    "datos = pd.read_sql(query_2, conn)\n",
    "datos.head()"
   ]
  },
  {
   "cell_type": "code",
   "execution_count": 8,
   "id": "53ff1772",
   "metadata": {},
   "outputs": [],
   "source": [
    "conn.close()"
   ]
  },
  {
   "cell_type": "code",
   "execution_count": 10,
   "id": "b2246628",
   "metadata": {},
   "outputs": [],
   "source": [
    "from datetime import datetime\n",
    "from sklearn.model_selection import train_test_split\n",
    "from sklearn.preprocessing import OneHotEncoder, StandardScaler\n",
    "from sklearn.linear_model import LinearRegression\n",
    "from sklearn.metrics import mean_squared_error, r2_score, mean_absolute_error\n",
    "import numpy as np\n",
    "import pandas as pd"
   ]
  },
  {
   "cell_type": "code",
   "execution_count": 11,
   "id": "a5c4d0dd",
   "metadata": {},
   "outputs": [],
   "source": [
    "fecha_referencia = datetime(2000, 1, 1)\n",
    "datos['ModifiedDate'] = pd.to_datetime(datos['ModifiedDate'])\n",
    "datos['DiasDesdeReferencia'] = (datos['ModifiedDate'] - fecha_referencia).dt.days\n",
    "\n",
    "columnas_a_eliminar = ['PasswordHash', 'PasswordSalt', 'rowguid', 'ModifiedDate']\n",
    "X = datos.drop(columnas_a_eliminar + ['DiasDesdeReferencia'], axis=1)\n",
    "\n",
    "y = datos['DiasDesdeReferencia']\n",
    "\n",
    "columnas_categoricas = X.select_dtypes(include=['object', 'bool']).columns.tolist()\n",
    "columnas_numericas = X.select_dtypes(include=['int64', 'float64']).columns.tolist()"
   ]
  },
  {
   "cell_type": "code",
   "execution_count": 12,
   "id": "9a8d1a4b",
   "metadata": {},
   "outputs": [],
   "source": [
    "if columnas_categoricas:\n",
    "    for col in columnas_categoricas:\n",
    "        X[col] = X[col].fillna('Desconocido')\n",
    "    \n",
    "    encoder = OneHotEncoder(sparse_output=False, handle_unknown='ignore')\n",
    "    encoded_cats = encoder.fit_transform(X[columnas_categoricas])\n",
    "    \n",
    "    encoded_df = pd.DataFrame(\n",
    "        encoded_cats, \n",
    "        columns=encoder.get_feature_names_out(columnas_categoricas)\n",
    "    )\n",
    "    \n",
    "    X = X.drop(columnas_categoricas, axis=1)\n",
    "    X = pd.concat([X, encoded_df], axis=1)\n",
    "\n",
    "for col in columnas_numericas:\n",
    "    X[col] = X[col].fillna(X[col].mean())\n",
    "\n",
    "X_train, X_test, y_train, y_test = train_test_split(\n",
    "    X, y, test_size=0.2, random_state=42\n",
    ")"
   ]
  },
  {
   "cell_type": "code",
   "execution_count": 13,
   "id": "62455c24",
   "metadata": {},
   "outputs": [
    {
     "name": "stdout",
     "output_type": "stream",
     "text": [
      "MAE: 76.84\n",
      "MSE: 27016.93\n",
      "R²: 0.7255\n"
     ]
    }
   ],
   "source": [
    "scaler = StandardScaler()\n",
    "if columnas_numericas:\n",
    "    X_train[columnas_numericas] = scaler.fit_transform(X_train[columnas_numericas])\n",
    "    X_test[columnas_numericas] = scaler.transform(X_test[columnas_numericas])\n",
    "\n",
    "modelo = LinearRegression()\n",
    "modelo.fit(X_train, y_train)\n",
    "\n",
    "y_pred = modelo.predict(X_test)\n",
    "\n",
    "predicciones_fecha = [fecha_referencia + pd.Timedelta(days=int(pred)) for pred in y_pred]\n",
    "fechas_reales = [fecha_referencia + pd.Timedelta(days=int(real)) for real in y_test]\n",
    "\n",
    "mae = mean_absolute_error(y_test, y_pred)\n",
    "mse = mean_squared_error(y_test, y_pred)\n",
    "rmse = np.sqrt(mse)\n",
    "r2 = r2_score(y_test, y_pred)\n",
    "\n",
    "print(f\"MAE: {mae:.2f}\")\n",
    "print(f\"MSE: {mse:.2f}\")\n",
    "print(f\"R²: {r2:.4f}\")"
   ]
  },
  {
   "cell_type": "code",
   "execution_count": 14,
   "id": "136a403c",
   "metadata": {},
   "outputs": [],
   "source": [
    "def predecir_fecha(nuevo_cliente):\n",
    "    if columnas_categoricas:\n",
    "        for col in columnas_categoricas:\n",
    "            if col in nuevo_cliente.columns:\n",
    "                nuevo_cliente[col] = nuevo_cliente[col].fillna('Desconocido')\n",
    "        \n",
    "        nuevo_encoded = encoder.transform(nuevo_cliente[columnas_categoricas])\n",
    "        if hasattr(nuevo_encoded, 'toarray'):\n",
    "            nuevo_encoded = nuevo_encoded.toarray()\n",
    "            \n",
    "        nuevo_encoded_df = pd.DataFrame(\n",
    "            nuevo_encoded,\n",
    "            columns=encoder.get_feature_names_out(columnas_categoricas)\n",
    "        )\n",
    "        \n",
    "        nuevo_cliente = nuevo_cliente.drop(columnas_categoricas, axis=1)\n",
    "        nuevo_cliente = pd.concat([nuevo_cliente, nuevo_encoded_df], axis=1)\n",
    "    \n",
    "    for col in columnas_numericas:\n",
    "        if col in nuevo_cliente.columns:\n",
    "            nuevo_cliente[col] = nuevo_cliente[col].fillna(X[col].mean())\n",
    "    \n",
    "    if columnas_numericas:\n",
    "        nuevo_cliente[columnas_numericas] = scaler.transform(nuevo_cliente[columnas_numericas])\n",
    "    \n",
    "    dias_predichos = modelo.predict(nuevo_cliente)[0]\n",
    "    fecha_predicha = fecha_referencia + pd.Timedelta(days=int(dias_predichos))\n",
    "    \n",
    "    print(f\"Fecha de modificación predicha: {fecha_predicha.strftime('%Y-%m-%d')}\")"
   ]
  },
  {
   "cell_type": "code",
   "execution_count": 15,
   "id": "64d5da78",
   "metadata": {},
   "outputs": [
    {
     "name": "stdout",
     "output_type": "stream",
     "text": [
      "Fecha de modificación predicha: 2006-09-09\n"
     ]
    }
   ],
   "source": [
    "# Ejemplo con cliente random\n",
    "cliente_ejemplo = pd.DataFrame({\n",
    "    'CustomerID': [1001],\n",
    "    'NameStyle': [False],\n",
    "    'Title': ['Sr.'],\n",
    "    'FirstName': ['Carlos'],\n",
    "    'MiddleName': [None],\n",
    "    'LastName': ['Gómez'],\n",
    "    'Suffix': [None],\n",
    "    'CompanyName': ['Empresa Nueva'],\n",
    "    'SalesPerson': ['adventure-works\\\\david8'],\n",
    "    'EmailAddress': ['carlos@ejemplo.com'],\n",
    "    'Phone': ['555-123-4567']\n",
    "})\n",
    "\n",
    "predecir_fecha(cliente_ejemplo)"
   ]
  },
  {
   "cell_type": "code",
   "execution_count": 16,
   "id": "1cd94bdd",
   "metadata": {},
   "outputs": [],
   "source": [
    "from flask import Flask, request, jsonify\n",
    "import pickle\n",
    "from datetime import datetime\n",
    "import pandas as pd\n",
    "import pyodbc\n",
    "import json"
   ]
  },
  {
   "cell_type": "code",
   "execution_count": 17,
   "id": "6f96f424",
   "metadata": {},
   "outputs": [
    {
     "name": "stdout",
     "output_type": "stream",
     "text": [
      "Modelo y componentes guardados\n"
     ]
    }
   ],
   "source": [
    "# Guardar todos los componentes necesarios\n",
    "pickle.dump(modelo, open('modelo.pkl', 'wb'))\n",
    "pickle.dump(encoder, open('encoder.pkl', 'wb'))\n",
    "pickle.dump(scaler, open('scaler.pkl', 'wb'))\n",
    "pickle.dump(columnas_categoricas, open('columnas_categoricas.pkl', 'wb'))\n",
    "pickle.dump(columnas_numericas, open('columnas_numericas.pkl', 'wb'))\n",
    "\n",
    "print(\"Modelo y componentes guardados\")"
   ]
  },
  {
   "cell_type": "code",
   "execution_count": 18,
   "id": "449b1584",
   "metadata": {},
   "outputs": [],
   "source": [
    "from azureml.core import Workspace, Environment, Model\n",
    "from azureml.core.model import InferenceConfig\n",
    "from azureml.core.webservice import AciWebservice"
   ]
  },
  {
   "cell_type": "code",
   "execution_count": 23,
   "id": "dcae728f",
   "metadata": {},
   "outputs": [
    {
     "name": "stdout",
     "output_type": "stream",
     "text": [
      "Deploying KeyVault with name workspackeyvault61192520.\n",
      "Deploying AppInsights with name workspacinsights15568ba1.\n",
      "Deployed AppInsights with name workspacinsights15568ba1. Took 7.78 seconds.\n",
      "Deploying StorageAccount with name workspacstoragef6b437b42.\n",
      "Deployed KeyVault with name workspackeyvault61192520. Took 24.83 seconds.\n",
      "Deployed StorageAccount with name workspacstoragef6b437b42. Took 29.99 seconds.\n",
      "Deploying Workspace with name workspaceAct.\n",
      "Deployed Workspace with name workspaceAct. Took 41.55 seconds.\n",
      "Registering model model\n"
     ]
    }
   ],
   "source": [
    "import json\n",
    "\n",
    "\n",
    "#GETTING MY ID:\n",
    "id = open('/Users/diegoortega/Documents/VS/Python/Semestre 8/Activdad1CloudComputing/id_confidencial.json', 'r')\n",
    "mi = json.load(id)\n",
    "my_id = mi[\"my_id\"]\n",
    "\n",
    "from azureml.core import Workspace\n",
    "\n",
    "ws = Workspace.create(name=\"workspaceAct\",\n",
    "                      subscription_id = my_id,\n",
    "                      resource_group = \"resource_group2\",\n",
    "                      location = \"centralindia\")\n",
    "\n",
    "from azureml.core.model import Model\n",
    "\n",
    "mname = \"model\"\n",
    "registered_model = Model.register(model_path=\"modelo.pkl\",\n",
    "                                  model_name=mname,\n",
    "                                  workspace=ws)"
   ]
  },
  {
   "cell_type": "code",
   "execution_count": 29,
   "id": "d7ef3c7f",
   "metadata": {},
   "outputs": [
    {
     "name": "stderr",
     "output_type": "stream",
     "text": [
      "/var/folders/rb/fqqlv8sj6g176x662s9tq20w0000gn/T/ipykernel_44752/771110926.py:37: FutureWarning: azureml.core.model:\n",
      "To leverage new model deployment capabilities, AzureML recommends using CLI/SDK v2 to deploy models as online endpoint, \n",
      "please refer to respective documentations \n",
      "https://docs.microsoft.com/azure/machine-learning/how-to-deploy-managed-online-endpoints /\n",
      "https://docs.microsoft.com/azure/machine-learning/how-to-attach-kubernetes-anywhere \n",
      "For more information on migration, see https://aka.ms/acimoemigration \n",
      "To disable CLI/SDK v1 deprecation warning set AZUREML_LOG_DEPRECATION_WARNING_ENABLED to 'False'\n",
      "  service = Model.deploy(\n"
     ]
    },
    {
     "name": "stdout",
     "output_type": "stream",
     "text": [
      "Tips: You can try get_logs(): https://aka.ms/debugimage#dockerlog or local deployment: https://aka.ms/debugimage#debug-locally to debug if deployment takes longer than 10 minutes.\n",
      "Running\n",
      "2025-04-23 19:00:20-06:00 Creating Container Registry if not exists..\n",
      "2025-04-23 19:10:20-06:00 Registering the environment.\n",
      "2025-04-23 19:10:21-06:00 Building image..\n",
      "2025-04-23 19:18:04-06:00 Generating deployment configuration.\n",
      "2025-04-23 19:18:05-06:00 Submitting deployment to compute..\n",
      "2025-04-23 19:18:13-06:00 Checking the status of deployment customer-date-prediction..\n",
      "2025-04-23 19:19:41-06:00 Checking the status of inference endpoint customer-date-prediction.\n",
      "Failed\n"
     ]
    },
    {
     "name": "stderr",
     "output_type": "stream",
     "text": [
      "Service deployment polling reached non-successful terminal state, current service state: Failed\n",
      "Operation ID: 5a0b3aea-f422-482f-a684-2a9aeb4fdc6c\n",
      "More information can be found using '.get_logs()'\n",
      "Error:\n",
      "{\n",
      "  \"code\": \"AciDeploymentFailed\",\n",
      "  \"statusCode\": 400,\n",
      "  \"message\": \"Aci Deployment failed with exception: Your container application crashed. This may be caused by errors in your scoring file's init() function.\n",
      "\t1. Please check the logs for your container instance: customer-date-prediction. From the AML SDK, you can run print(service.get_logs()) if you have service object to fetch the logs.\n",
      "\t2. You can interactively debug your scoring file locally. Please refer to https://docs.microsoft.com/azure/machine-learning/how-to-debug-visual-studio-code#debug-and-troubleshoot-deployments for more information.\n",
      "\t3. You can also try to run image a99b76d9244b4e0aa4f2c9c11e31d2f9.azurecr.io/azureml/azureml_661f9b3bc4652abf8226273e5f4c8820@sha256:273dcd96f344cc48e68f36005e31afa431fc3603df09b27f0d2a07810bbae8f8 locally. Please refer to https://aka.ms/debugimage#service-launch-fails for more information.\",\n",
      "  \"details\": [\n",
      "    {\n",
      "      \"code\": \"CrashLoopBackOff\",\n",
      "      \"message\": \"Your container application crashed. This may be caused by errors in your scoring file's init() function.\n",
      "\t1. Please check the logs for your container instance: customer-date-prediction. From the AML SDK, you can run print(service.get_logs()) if you have service object to fetch the logs.\n",
      "\t2. You can interactively debug your scoring file locally. Please refer to https://docs.microsoft.com/azure/machine-learning/how-to-debug-visual-studio-code#debug-and-troubleshoot-deployments for more information.\n",
      "\t3. You can also try to run image a99b76d9244b4e0aa4f2c9c11e31d2f9.azurecr.io/azureml/azureml_661f9b3bc4652abf8226273e5f4c8820@sha256:273dcd96f344cc48e68f36005e31afa431fc3603df09b27f0d2a07810bbae8f8 locally. Please refer to https://aka.ms/debugimage#service-launch-fails for more information.\"\n",
      "    },\n",
      "    {\n",
      "      \"code\": \"AciDeploymentFailed\",\n",
      "      \"message\": \"Your container application crashed. Please follow the steps to debug:\n",
      "\t1. From the AML SDK, you can run print(service.get_logs()) if you have service object to fetch the logs. Please refer to https://aka.ms/debugimage#dockerlog for more information.\n",
      "\t2. If your container application crashed. This may be caused by errors in your scoring file's init() function. You can try debugging locally first. Please refer to https://aka.ms/debugimage#debug-locally for more information.\n",
      "\t3. You can also interactively debug your scoring file locally. Please refer to https://docs.microsoft.com/azure/machine-learning/how-to-debug-visual-studio-code#debug-and-troubleshoot-deployments for more information.\n",
      "\t4. View the diagnostic events to check status of container, it may help you to debug the issue.\n",
      "\"RestartCount\": 3\n",
      "\"CurrentState\": {\"state\":\"Waiting\",\"startTime\":null,\"exitCode\":null,\"finishTime\":null,\"detailStatus\":\"CrashLoopBackOff: Back-off restarting failed\"}\n",
      "\"PreviousState\": {\"state\":\"Terminated\",\"startTime\":\"2025-04-24T01:21:07.983Z\",\"exitCode\":111,\"finishTime\":\"2025-04-24T01:21:18.71Z\",\"detailStatus\":\"Error\"}\n",
      "\"Events\":\n",
      "{\"count\":1,\"firstTimestamp\":\"2025-04-24T01:18:18Z\",\"lastTimestamp\":\"2025-04-24T01:18:18Z\",\"name\":\"Pulling\",\"message\":\"pulling image \"a99b76d9244b4e0aa4f2c9c11e31d2f9.azurecr.io/azureml/azureml_661f9b3bc4652abf8226273e5f4c8820@sha256:273dcd96f344cc48e68f36005e31afa431fc3603df09b27f0d2a07810bbae8f8\"\",\"type\":\"Normal\"}\n",
      "{\"count\":1,\"firstTimestamp\":\"2025-04-24T01:19:01Z\",\"lastTimestamp\":\"2025-04-24T01:19:01Z\",\"name\":\"Pulled\",\"message\":\"Successfully pulled image \"a99b76d9244b4e0aa4f2c9c11e31d2f9.azurecr.io/azureml/azureml_661f9b3bc4652abf8226273e5f4c8820@sha256:273dcd96f344cc48e68f36005e31afa431fc3603df09b27f0d2a07810bbae8f8\"\",\"type\":\"Normal\"}\n",
      "{\"count\":4,\"firstTimestamp\":\"2025-04-24T01:19:21Z\",\"lastTimestamp\":\"2025-04-24T01:21:07Z\",\"name\":\"Started\",\"message\":\"Started container\",\"type\":\"Normal\"}\n",
      "{\"count\":4,\"firstTimestamp\":\"2025-04-24T01:19:32Z\",\"lastTimestamp\":\"2025-04-24T01:21:18Z\",\"name\":\"Killing\",\"message\":\"Container customer-date-prediction terminated with ExitCode 111.\",\"type\":\"Normal\"}\n",
      "\"\n",
      "    }\n",
      "  ]\n",
      "}\n",
      "\n"
     ]
    },
    {
     "ename": "WebserviceException",
     "evalue": "WebserviceException:\n\tMessage: Service deployment polling reached non-successful terminal state, current service state: Failed\nOperation ID: 5a0b3aea-f422-482f-a684-2a9aeb4fdc6c\nMore information can be found using '.get_logs()'\nError:\n{\n  \"code\": \"AciDeploymentFailed\",\n  \"statusCode\": 400,\n  \"message\": \"Aci Deployment failed with exception: Your container application crashed. This may be caused by errors in your scoring file's init() function.\n\t1. Please check the logs for your container instance: customer-date-prediction. From the AML SDK, you can run print(service.get_logs()) if you have service object to fetch the logs.\n\t2. You can interactively debug your scoring file locally. Please refer to https://docs.microsoft.com/azure/machine-learning/how-to-debug-visual-studio-code#debug-and-troubleshoot-deployments for more information.\n\t3. You can also try to run image a99b76d9244b4e0aa4f2c9c11e31d2f9.azurecr.io/azureml/azureml_661f9b3bc4652abf8226273e5f4c8820@sha256:273dcd96f344cc48e68f36005e31afa431fc3603df09b27f0d2a07810bbae8f8 locally. Please refer to https://aka.ms/debugimage#service-launch-fails for more information.\",\n  \"details\": [\n    {\n      \"code\": \"CrashLoopBackOff\",\n      \"message\": \"Your container application crashed. This may be caused by errors in your scoring file's init() function.\n\t1. Please check the logs for your container instance: customer-date-prediction. From the AML SDK, you can run print(service.get_logs()) if you have service object to fetch the logs.\n\t2. You can interactively debug your scoring file locally. Please refer to https://docs.microsoft.com/azure/machine-learning/how-to-debug-visual-studio-code#debug-and-troubleshoot-deployments for more information.\n\t3. You can also try to run image a99b76d9244b4e0aa4f2c9c11e31d2f9.azurecr.io/azureml/azureml_661f9b3bc4652abf8226273e5f4c8820@sha256:273dcd96f344cc48e68f36005e31afa431fc3603df09b27f0d2a07810bbae8f8 locally. Please refer to https://aka.ms/debugimage#service-launch-fails for more information.\"\n    },\n    {\n      \"code\": \"AciDeploymentFailed\",\n      \"message\": \"Your container application crashed. Please follow the steps to debug:\n\t1. From the AML SDK, you can run print(service.get_logs()) if you have service object to fetch the logs. Please refer to https://aka.ms/debugimage#dockerlog for more information.\n\t2. If your container application crashed. This may be caused by errors in your scoring file's init() function. You can try debugging locally first. Please refer to https://aka.ms/debugimage#debug-locally for more information.\n\t3. You can also interactively debug your scoring file locally. Please refer to https://docs.microsoft.com/azure/machine-learning/how-to-debug-visual-studio-code#debug-and-troubleshoot-deployments for more information.\n\t4. View the diagnostic events to check status of container, it may help you to debug the issue.\n\"RestartCount\": 3\n\"CurrentState\": {\"state\":\"Waiting\",\"startTime\":null,\"exitCode\":null,\"finishTime\":null,\"detailStatus\":\"CrashLoopBackOff: Back-off restarting failed\"}\n\"PreviousState\": {\"state\":\"Terminated\",\"startTime\":\"2025-04-24T01:21:07.983Z\",\"exitCode\":111,\"finishTime\":\"2025-04-24T01:21:18.71Z\",\"detailStatus\":\"Error\"}\n\"Events\":\n{\"count\":1,\"firstTimestamp\":\"2025-04-24T01:18:18Z\",\"lastTimestamp\":\"2025-04-24T01:18:18Z\",\"name\":\"Pulling\",\"message\":\"pulling image \"a99b76d9244b4e0aa4f2c9c11e31d2f9.azurecr.io/azureml/azureml_661f9b3bc4652abf8226273e5f4c8820@sha256:273dcd96f344cc48e68f36005e31afa431fc3603df09b27f0d2a07810bbae8f8\"\",\"type\":\"Normal\"}\n{\"count\":1,\"firstTimestamp\":\"2025-04-24T01:19:01Z\",\"lastTimestamp\":\"2025-04-24T01:19:01Z\",\"name\":\"Pulled\",\"message\":\"Successfully pulled image \"a99b76d9244b4e0aa4f2c9c11e31d2f9.azurecr.io/azureml/azureml_661f9b3bc4652abf8226273e5f4c8820@sha256:273dcd96f344cc48e68f36005e31afa431fc3603df09b27f0d2a07810bbae8f8\"\",\"type\":\"Normal\"}\n{\"count\":4,\"firstTimestamp\":\"2025-04-24T01:19:21Z\",\"lastTimestamp\":\"2025-04-24T01:21:07Z\",\"name\":\"Started\",\"message\":\"Started container\",\"type\":\"Normal\"}\n{\"count\":4,\"firstTimestamp\":\"2025-04-24T01:19:32Z\",\"lastTimestamp\":\"2025-04-24T01:21:18Z\",\"name\":\"Killing\",\"message\":\"Container customer-date-prediction terminated with ExitCode 111.\",\"type\":\"Normal\"}\n\"\n    }\n  ]\n}\n\tInnerException None\n\tErrorResponse \n{\n    \"error\": {\n        \"message\": \"Service deployment polling reached non-successful terminal state, current service state: Failed\\nOperation ID: 5a0b3aea-f422-482f-a684-2a9aeb4fdc6c\\nMore information can be found using '.get_logs()'\\nError:\\n{\\n  \\\"code\\\": \\\"AciDeploymentFailed\\\",\\n  \\\"statusCode\\\": 400,\\n  \\\"message\\\": \\\"Aci Deployment failed with exception: Your container application crashed. This may be caused by errors in your scoring file's init() function.\\n\\t1. Please check the logs for your container instance: customer-date-prediction. From the AML SDK, you can run print(service.get_logs()) if you have service object to fetch the logs.\\n\\t2. You can interactively debug your scoring file locally. Please refer to https://docs.microsoft.com/azure/machine-learning/how-to-debug-visual-studio-code#debug-and-troubleshoot-deployments for more information.\\n\\t3. You can also try to run image a99b76d9244b4e0aa4f2c9c11e31d2f9.azurecr.io/azureml/azureml_661f9b3bc4652abf8226273e5f4c8820@sha256:273dcd96f344cc48e68f36005e31afa431fc3603df09b27f0d2a07810bbae8f8 locally. Please refer to https://aka.ms/debugimage#service-launch-fails for more information.\\\",\\n  \\\"details\\\": [\\n    {\\n      \\\"code\\\": \\\"CrashLoopBackOff\\\",\\n      \\\"message\\\": \\\"Your container application crashed. This may be caused by errors in your scoring file's init() function.\\n\\t1. Please check the logs for your container instance: customer-date-prediction. From the AML SDK, you can run print(service.get_logs()) if you have service object to fetch the logs.\\n\\t2. You can interactively debug your scoring file locally. Please refer to https://docs.microsoft.com/azure/machine-learning/how-to-debug-visual-studio-code#debug-and-troubleshoot-deployments for more information.\\n\\t3. You can also try to run image a99b76d9244b4e0aa4f2c9c11e31d2f9.azurecr.io/azureml/azureml_661f9b3bc4652abf8226273e5f4c8820@sha256:273dcd96f344cc48e68f36005e31afa431fc3603df09b27f0d2a07810bbae8f8 locally. Please refer to https://aka.ms/debugimage#service-launch-fails for more information.\\\"\\n    },\\n    {\\n      \\\"code\\\": \\\"AciDeploymentFailed\\\",\\n      \\\"message\\\": \\\"Your container application crashed. Please follow the steps to debug:\\n\\t1. From the AML SDK, you can run print(service.get_logs()) if you have service object to fetch the logs. Please refer to https://aka.ms/debugimage#dockerlog for more information.\\n\\t2. If your container application crashed. This may be caused by errors in your scoring file's init() function. You can try debugging locally first. Please refer to https://aka.ms/debugimage#debug-locally for more information.\\n\\t3. You can also interactively debug your scoring file locally. Please refer to https://docs.microsoft.com/azure/machine-learning/how-to-debug-visual-studio-code#debug-and-troubleshoot-deployments for more information.\\n\\t4. View the diagnostic events to check status of container, it may help you to debug the issue.\\n\\\"RestartCount\\\": 3\\n\\\"CurrentState\\\": {\\\"state\\\":\\\"Waiting\\\",\\\"startTime\\\":null,\\\"exitCode\\\":null,\\\"finishTime\\\":null,\\\"detailStatus\\\":\\\"CrashLoopBackOff: Back-off restarting failed\\\"}\\n\\\"PreviousState\\\": {\\\"state\\\":\\\"Terminated\\\",\\\"startTime\\\":\\\"2025-04-24T01:21:07.983Z\\\",\\\"exitCode\\\":111,\\\"finishTime\\\":\\\"2025-04-24T01:21:18.71Z\\\",\\\"detailStatus\\\":\\\"Error\\\"}\\n\\\"Events\\\":\\n{\\\"count\\\":1,\\\"firstTimestamp\\\":\\\"2025-04-24T01:18:18Z\\\",\\\"lastTimestamp\\\":\\\"2025-04-24T01:18:18Z\\\",\\\"name\\\":\\\"Pulling\\\",\\\"message\\\":\\\"pulling image \\\"a99b76d9244b4e0aa4f2c9c11e31d2f9.azurecr.io/azureml/azureml_661f9b3bc4652abf8226273e5f4c8820@sha256:273dcd96f344cc48e68f36005e31afa431fc3603df09b27f0d2a07810bbae8f8\\\"\\\",\\\"type\\\":\\\"Normal\\\"}\\n{\\\"count\\\":1,\\\"firstTimestamp\\\":\\\"2025-04-24T01:19:01Z\\\",\\\"lastTimestamp\\\":\\\"2025-04-24T01:19:01Z\\\",\\\"name\\\":\\\"Pulled\\\",\\\"message\\\":\\\"Successfully pulled image \\\"a99b76d9244b4e0aa4f2c9c11e31d2f9.azurecr.io/azureml/azureml_661f9b3bc4652abf8226273e5f4c8820@sha256:273dcd96f344cc48e68f36005e31afa431fc3603df09b27f0d2a07810bbae8f8\\\"\\\",\\\"type\\\":\\\"Normal\\\"}\\n{\\\"count\\\":4,\\\"firstTimestamp\\\":\\\"2025-04-24T01:19:21Z\\\",\\\"lastTimestamp\\\":\\\"2025-04-24T01:21:07Z\\\",\\\"name\\\":\\\"Started\\\",\\\"message\\\":\\\"Started container\\\",\\\"type\\\":\\\"Normal\\\"}\\n{\\\"count\\\":4,\\\"firstTimestamp\\\":\\\"2025-04-24T01:19:32Z\\\",\\\"lastTimestamp\\\":\\\"2025-04-24T01:21:18Z\\\",\\\"name\\\":\\\"Killing\\\",\\\"message\\\":\\\"Container customer-date-prediction terminated with ExitCode 111.\\\",\\\"type\\\":\\\"Normal\\\"}\\n\\\"\\n    }\\n  ]\\n}\"\n    }\n}",
     "output_type": "error",
     "traceback": [
      "\u001b[0;31m---------------------------------------------------------------------------\u001b[0m",
      "\u001b[0;31mWebserviceException\u001b[0m                       Traceback (most recent call last)",
      "Cell \u001b[0;32mIn[29], line 47\u001b[0m\n\u001b[1;32m     37\u001b[0m service \u001b[38;5;241m=\u001b[39m Model\u001b[38;5;241m.\u001b[39mdeploy(\n\u001b[1;32m     38\u001b[0m     workspace\u001b[38;5;241m=\u001b[39mws,\n\u001b[1;32m     39\u001b[0m     name\u001b[38;5;241m=\u001b[39m\u001b[38;5;124m\"\u001b[39m\u001b[38;5;124mcustomer-date-prediction\u001b[39m\u001b[38;5;124m\"\u001b[39m,\n\u001b[0;32m   (...)\u001b[0m\n\u001b[1;32m     43\u001b[0m     overwrite\u001b[38;5;241m=\u001b[39m\u001b[38;5;28;01mTrue\u001b[39;00m\n\u001b[1;32m     44\u001b[0m )\n\u001b[1;32m     46\u001b[0m \u001b[38;5;66;03m# Esperar a que se complete el despliegue\u001b[39;00m\n\u001b[0;32m---> 47\u001b[0m \u001b[43mservice\u001b[49m\u001b[38;5;241;43m.\u001b[39;49m\u001b[43mwait_for_deployment\u001b[49m\u001b[43m(\u001b[49m\u001b[43mshow_output\u001b[49m\u001b[38;5;241;43m=\u001b[39;49m\u001b[38;5;28;43;01mTrue\u001b[39;49;00m\u001b[43m)\u001b[49m\n\u001b[1;32m     49\u001b[0m \u001b[38;5;66;03m# Obtener la URL del servicio\u001b[39;00m\n\u001b[1;32m     50\u001b[0m \u001b[38;5;28mprint\u001b[39m(\u001b[38;5;124mf\u001b[39m\u001b[38;5;124m\"\u001b[39m\u001b[38;5;124mURL del servicio: \u001b[39m\u001b[38;5;132;01m{\u001b[39;00mservice\u001b[38;5;241m.\u001b[39mscoring_uri\u001b[38;5;132;01m}\u001b[39;00m\u001b[38;5;124m\"\u001b[39m)\n",
      "File \u001b[0;32m~/Documents/VS/Python/Semestre 8/Activdad1CloudComputing/azure/lib/python3.9/site-packages/azureml/core/webservice/webservice.py:910\u001b[0m, in \u001b[0;36mWebservice.wait_for_deployment\u001b[0;34m(self, show_output, timeout_sec)\u001b[0m\n\u001b[1;32m    907\u001b[0m         \u001b[38;5;28;01mif\u001b[39;00m \u001b[38;5;129;01mnot\u001b[39;00m logs_response:\n\u001b[1;32m    908\u001b[0m             logs_response \u001b[38;5;241m=\u001b[39m \u001b[38;5;124m'\u001b[39m\u001b[38;5;124mCurrent sub-operation type not known, more logs unavailable.\u001b[39m\u001b[38;5;124m'\u001b[39m\n\u001b[0;32m--> 910\u001b[0m         \u001b[38;5;28;01mraise\u001b[39;00m WebserviceException(\u001b[38;5;124m'\u001b[39m\u001b[38;5;124mService deployment polling reached non-successful terminal state, current \u001b[39m\u001b[38;5;124m'\u001b[39m\n\u001b[1;32m    911\u001b[0m                                   \u001b[38;5;124m'\u001b[39m\u001b[38;5;124mservice state: \u001b[39m\u001b[38;5;132;01m{}\u001b[39;00m\u001b[38;5;130;01m\\n\u001b[39;00m\u001b[38;5;124m'\u001b[39m\n\u001b[1;32m    912\u001b[0m                                   \u001b[38;5;124m'\u001b[39m\u001b[38;5;124mOperation ID: \u001b[39m\u001b[38;5;132;01m{}\u001b[39;00m\u001b[38;5;130;01m\\n\u001b[39;00m\u001b[38;5;124m'\u001b[39m\n\u001b[1;32m    913\u001b[0m                                   \u001b[38;5;124m'\u001b[39m\u001b[38;5;132;01m{}\u001b[39;00m\u001b[38;5;130;01m\\n\u001b[39;00m\u001b[38;5;124m'\u001b[39m\n\u001b[1;32m    914\u001b[0m                                   \u001b[38;5;124m'\u001b[39m\u001b[38;5;124mError:\u001b[39m\u001b[38;5;130;01m\\n\u001b[39;00m\u001b[38;5;124m'\u001b[39m\n\u001b[1;32m    915\u001b[0m                                   \u001b[38;5;124m'\u001b[39m\u001b[38;5;132;01m{}\u001b[39;00m\u001b[38;5;124m'\u001b[39m\u001b[38;5;241m.\u001b[39mformat(\u001b[38;5;28mself\u001b[39m\u001b[38;5;241m.\u001b[39mstate, \u001b[38;5;28mself\u001b[39m\u001b[38;5;241m.\u001b[39m_operation_endpoint\u001b[38;5;241m.\u001b[39msplit(\u001b[38;5;124m'\u001b[39m\u001b[38;5;124m/\u001b[39m\u001b[38;5;124m'\u001b[39m)[\u001b[38;5;241m-\u001b[39m\u001b[38;5;241m1\u001b[39m],\n\u001b[1;32m    916\u001b[0m                                               logs_response, format_error_response), logger\u001b[38;5;241m=\u001b[39mmodule_logger)\n\u001b[1;32m    917\u001b[0m     \u001b[38;5;28mprint\u001b[39m(\u001b[38;5;124m'\u001b[39m\u001b[38;5;132;01m{}\u001b[39;00m\u001b[38;5;124m service creation operation finished, operation \u001b[39m\u001b[38;5;124m\"\u001b[39m\u001b[38;5;132;01m{}\u001b[39;00m\u001b[38;5;124m\"\u001b[39m\u001b[38;5;124m'\u001b[39m\u001b[38;5;241m.\u001b[39mformat(\u001b[38;5;28mself\u001b[39m\u001b[38;5;241m.\u001b[39m_webservice_type,\n\u001b[1;32m    918\u001b[0m                                                                           operation_state))\n\u001b[1;32m    919\u001b[0m \u001b[38;5;28;01mexcept\u001b[39;00m WebserviceException \u001b[38;5;28;01mas\u001b[39;00m e:\n",
      "\u001b[0;31mWebserviceException\u001b[0m: WebserviceException:\n\tMessage: Service deployment polling reached non-successful terminal state, current service state: Failed\nOperation ID: 5a0b3aea-f422-482f-a684-2a9aeb4fdc6c\nMore information can be found using '.get_logs()'\nError:\n{\n  \"code\": \"AciDeploymentFailed\",\n  \"statusCode\": 400,\n  \"message\": \"Aci Deployment failed with exception: Your container application crashed. This may be caused by errors in your scoring file's init() function.\n\t1. Please check the logs for your container instance: customer-date-prediction. From the AML SDK, you can run print(service.get_logs()) if you have service object to fetch the logs.\n\t2. You can interactively debug your scoring file locally. Please refer to https://docs.microsoft.com/azure/machine-learning/how-to-debug-visual-studio-code#debug-and-troubleshoot-deployments for more information.\n\t3. You can also try to run image a99b76d9244b4e0aa4f2c9c11e31d2f9.azurecr.io/azureml/azureml_661f9b3bc4652abf8226273e5f4c8820@sha256:273dcd96f344cc48e68f36005e31afa431fc3603df09b27f0d2a07810bbae8f8 locally. Please refer to https://aka.ms/debugimage#service-launch-fails for more information.\",\n  \"details\": [\n    {\n      \"code\": \"CrashLoopBackOff\",\n      \"message\": \"Your container application crashed. This may be caused by errors in your scoring file's init() function.\n\t1. Please check the logs for your container instance: customer-date-prediction. From the AML SDK, you can run print(service.get_logs()) if you have service object to fetch the logs.\n\t2. You can interactively debug your scoring file locally. Please refer to https://docs.microsoft.com/azure/machine-learning/how-to-debug-visual-studio-code#debug-and-troubleshoot-deployments for more information.\n\t3. You can also try to run image a99b76d9244b4e0aa4f2c9c11e31d2f9.azurecr.io/azureml/azureml_661f9b3bc4652abf8226273e5f4c8820@sha256:273dcd96f344cc48e68f36005e31afa431fc3603df09b27f0d2a07810bbae8f8 locally. Please refer to https://aka.ms/debugimage#service-launch-fails for more information.\"\n    },\n    {\n      \"code\": \"AciDeploymentFailed\",\n      \"message\": \"Your container application crashed. Please follow the steps to debug:\n\t1. From the AML SDK, you can run print(service.get_logs()) if you have service object to fetch the logs. Please refer to https://aka.ms/debugimage#dockerlog for more information.\n\t2. If your container application crashed. This may be caused by errors in your scoring file's init() function. You can try debugging locally first. Please refer to https://aka.ms/debugimage#debug-locally for more information.\n\t3. You can also interactively debug your scoring file locally. Please refer to https://docs.microsoft.com/azure/machine-learning/how-to-debug-visual-studio-code#debug-and-troubleshoot-deployments for more information.\n\t4. View the diagnostic events to check status of container, it may help you to debug the issue.\n\"RestartCount\": 3\n\"CurrentState\": {\"state\":\"Waiting\",\"startTime\":null,\"exitCode\":null,\"finishTime\":null,\"detailStatus\":\"CrashLoopBackOff: Back-off restarting failed\"}\n\"PreviousState\": {\"state\":\"Terminated\",\"startTime\":\"2025-04-24T01:21:07.983Z\",\"exitCode\":111,\"finishTime\":\"2025-04-24T01:21:18.71Z\",\"detailStatus\":\"Error\"}\n\"Events\":\n{\"count\":1,\"firstTimestamp\":\"2025-04-24T01:18:18Z\",\"lastTimestamp\":\"2025-04-24T01:18:18Z\",\"name\":\"Pulling\",\"message\":\"pulling image \"a99b76d9244b4e0aa4f2c9c11e31d2f9.azurecr.io/azureml/azureml_661f9b3bc4652abf8226273e5f4c8820@sha256:273dcd96f344cc48e68f36005e31afa431fc3603df09b27f0d2a07810bbae8f8\"\",\"type\":\"Normal\"}\n{\"count\":1,\"firstTimestamp\":\"2025-04-24T01:19:01Z\",\"lastTimestamp\":\"2025-04-24T01:19:01Z\",\"name\":\"Pulled\",\"message\":\"Successfully pulled image \"a99b76d9244b4e0aa4f2c9c11e31d2f9.azurecr.io/azureml/azureml_661f9b3bc4652abf8226273e5f4c8820@sha256:273dcd96f344cc48e68f36005e31afa431fc3603df09b27f0d2a07810bbae8f8\"\",\"type\":\"Normal\"}\n{\"count\":4,\"firstTimestamp\":\"2025-04-24T01:19:21Z\",\"lastTimestamp\":\"2025-04-24T01:21:07Z\",\"name\":\"Started\",\"message\":\"Started container\",\"type\":\"Normal\"}\n{\"count\":4,\"firstTimestamp\":\"2025-04-24T01:19:32Z\",\"lastTimestamp\":\"2025-04-24T01:21:18Z\",\"name\":\"Killing\",\"message\":\"Container customer-date-prediction terminated with ExitCode 111.\",\"type\":\"Normal\"}\n\"\n    }\n  ]\n}\n\tInnerException None\n\tErrorResponse \n{\n    \"error\": {\n        \"message\": \"Service deployment polling reached non-successful terminal state, current service state: Failed\\nOperation ID: 5a0b3aea-f422-482f-a684-2a9aeb4fdc6c\\nMore information can be found using '.get_logs()'\\nError:\\n{\\n  \\\"code\\\": \\\"AciDeploymentFailed\\\",\\n  \\\"statusCode\\\": 400,\\n  \\\"message\\\": \\\"Aci Deployment failed with exception: Your container application crashed. This may be caused by errors in your scoring file's init() function.\\n\\t1. Please check the logs for your container instance: customer-date-prediction. From the AML SDK, you can run print(service.get_logs()) if you have service object to fetch the logs.\\n\\t2. You can interactively debug your scoring file locally. Please refer to https://docs.microsoft.com/azure/machine-learning/how-to-debug-visual-studio-code#debug-and-troubleshoot-deployments for more information.\\n\\t3. You can also try to run image a99b76d9244b4e0aa4f2c9c11e31d2f9.azurecr.io/azureml/azureml_661f9b3bc4652abf8226273e5f4c8820@sha256:273dcd96f344cc48e68f36005e31afa431fc3603df09b27f0d2a07810bbae8f8 locally. Please refer to https://aka.ms/debugimage#service-launch-fails for more information.\\\",\\n  \\\"details\\\": [\\n    {\\n      \\\"code\\\": \\\"CrashLoopBackOff\\\",\\n      \\\"message\\\": \\\"Your container application crashed. This may be caused by errors in your scoring file's init() function.\\n\\t1. Please check the logs for your container instance: customer-date-prediction. From the AML SDK, you can run print(service.get_logs()) if you have service object to fetch the logs.\\n\\t2. You can interactively debug your scoring file locally. Please refer to https://docs.microsoft.com/azure/machine-learning/how-to-debug-visual-studio-code#debug-and-troubleshoot-deployments for more information.\\n\\t3. You can also try to run image a99b76d9244b4e0aa4f2c9c11e31d2f9.azurecr.io/azureml/azureml_661f9b3bc4652abf8226273e5f4c8820@sha256:273dcd96f344cc48e68f36005e31afa431fc3603df09b27f0d2a07810bbae8f8 locally. Please refer to https://aka.ms/debugimage#service-launch-fails for more information.\\\"\\n    },\\n    {\\n      \\\"code\\\": \\\"AciDeploymentFailed\\\",\\n      \\\"message\\\": \\\"Your container application crashed. Please follow the steps to debug:\\n\\t1. From the AML SDK, you can run print(service.get_logs()) if you have service object to fetch the logs. Please refer to https://aka.ms/debugimage#dockerlog for more information.\\n\\t2. If your container application crashed. This may be caused by errors in your scoring file's init() function. You can try debugging locally first. Please refer to https://aka.ms/debugimage#debug-locally for more information.\\n\\t3. You can also interactively debug your scoring file locally. Please refer to https://docs.microsoft.com/azure/machine-learning/how-to-debug-visual-studio-code#debug-and-troubleshoot-deployments for more information.\\n\\t4. View the diagnostic events to check status of container, it may help you to debug the issue.\\n\\\"RestartCount\\\": 3\\n\\\"CurrentState\\\": {\\\"state\\\":\\\"Waiting\\\",\\\"startTime\\\":null,\\\"exitCode\\\":null,\\\"finishTime\\\":null,\\\"detailStatus\\\":\\\"CrashLoopBackOff: Back-off restarting failed\\\"}\\n\\\"PreviousState\\\": {\\\"state\\\":\\\"Terminated\\\",\\\"startTime\\\":\\\"2025-04-24T01:21:07.983Z\\\",\\\"exitCode\\\":111,\\\"finishTime\\\":\\\"2025-04-24T01:21:18.71Z\\\",\\\"detailStatus\\\":\\\"Error\\\"}\\n\\\"Events\\\":\\n{\\\"count\\\":1,\\\"firstTimestamp\\\":\\\"2025-04-24T01:18:18Z\\\",\\\"lastTimestamp\\\":\\\"2025-04-24T01:18:18Z\\\",\\\"name\\\":\\\"Pulling\\\",\\\"message\\\":\\\"pulling image \\\"a99b76d9244b4e0aa4f2c9c11e31d2f9.azurecr.io/azureml/azureml_661f9b3bc4652abf8226273e5f4c8820@sha256:273dcd96f344cc48e68f36005e31afa431fc3603df09b27f0d2a07810bbae8f8\\\"\\\",\\\"type\\\":\\\"Normal\\\"}\\n{\\\"count\\\":1,\\\"firstTimestamp\\\":\\\"2025-04-24T01:19:01Z\\\",\\\"lastTimestamp\\\":\\\"2025-04-24T01:19:01Z\\\",\\\"name\\\":\\\"Pulled\\\",\\\"message\\\":\\\"Successfully pulled image \\\"a99b76d9244b4e0aa4f2c9c11e31d2f9.azurecr.io/azureml/azureml_661f9b3bc4652abf8226273e5f4c8820@sha256:273dcd96f344cc48e68f36005e31afa431fc3603df09b27f0d2a07810bbae8f8\\\"\\\",\\\"type\\\":\\\"Normal\\\"}\\n{\\\"count\\\":4,\\\"firstTimestamp\\\":\\\"2025-04-24T01:19:21Z\\\",\\\"lastTimestamp\\\":\\\"2025-04-24T01:21:07Z\\\",\\\"name\\\":\\\"Started\\\",\\\"message\\\":\\\"Started container\\\",\\\"type\\\":\\\"Normal\\\"}\\n{\\\"count\\\":4,\\\"firstTimestamp\\\":\\\"2025-04-24T01:19:32Z\\\",\\\"lastTimestamp\\\":\\\"2025-04-24T01:21:18Z\\\",\\\"name\\\":\\\"Killing\\\",\\\"message\\\":\\\"Container customer-date-prediction terminated with ExitCode 111.\\\",\\\"type\\\":\\\"Normal\\\"}\\n\\\"\\n    }\\n  ]\\n}\"\n    }\n}"
     ]
    }
   ],
   "source": [
    "import json\n",
    "from azureml.core import Workspace, Environment, Model\n",
    "from azureml.core.model import InferenceConfig\n",
    "from azureml.core.webservice import AciWebservice, LocalWebservice\n",
    "\n",
    "# Cargar tu ID de suscripción\n",
    "with open('id_confidencial.json', 'r') as f:\n",
    "    mi = json.load(f)\n",
    "    subscription_id = mi[\"my_id\"]\n",
    "\n",
    "# Conectar al workspace\n",
    "ws = Workspace.get(\n",
    "    name=\"workspaceAct\",\n",
    "    subscription_id=subscription_id,\n",
    "    resource_group=\"resource_group2\"\n",
    ")\n",
    "\n",
    "# Definir configuración del entorno\n",
    "env = Environment.from_pip_requirements(name=\"customer_model_env\", file_path=\"requirements.txt\")\n",
    "\n",
    "# Definir configuración de inferencia\n",
    "inference_config = InferenceConfig(\n",
    "    entry_script=\"score.py\",\n",
    "    environment=env\n",
    ")\n",
    "\n",
    "# Definir configuración del servicio web\n",
    "deployment_config = AciWebservice.deploy_configuration(\n",
    "    cpu_cores=1,\n",
    "    memory_gb=1,\n",
    "    auth_enabled=True,\n",
    "    description=\"Servicio para predecir fecha de modificación de clientes\"\n",
    ")\n",
    "\n",
    "# Desplegar el servicio\n",
    "model = Model(ws, name=\"model\")\n",
    "service = Model.deploy(\n",
    "    workspace=ws,\n",
    "    name=\"customer-date-prediction\",\n",
    "    models=[model],\n",
    "    inference_config=inference_config,\n",
    "    deployment_config=deployment_config,\n",
    "    overwrite=True\n",
    ")\n",
    "\n",
    "# Esperar a que se complete el despliegue\n",
    "service.wait_for_deployment(show_output=True)\n",
    "\n",
    "# Obtener la URL del servicio\n",
    "print(f\"URL del servicio: {service.scoring_uri}\")\n",
    "\n",
    "# Guardar la clave primaria para autenticación\n",
    "primary_key = service.get_keys()[0] if service.auth_enabled else \"\"\n",
    "print(f\"Primary key: {primary_key}\")"
   ]
  }
 ],
 "metadata": {
  "kernelspec": {
   "display_name": "azure",
   "language": "python",
   "name": "python3"
  },
  "language_info": {
   "codemirror_mode": {
    "name": "ipython",
    "version": 3
   },
   "file_extension": ".py",
   "mimetype": "text/x-python",
   "name": "python",
   "nbconvert_exporter": "python",
   "pygments_lexer": "ipython3",
   "version": "3.9.22"
  }
 },
 "nbformat": 4,
 "nbformat_minor": 5
}
